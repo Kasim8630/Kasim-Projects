{
 "cells": [
  {
   "cell_type": "markdown",
   "metadata": {},
   "source": [
    "## Bot For Google Dinasour Game"
   ]
  },
  {
   "cell_type": "code",
   "execution_count": null,
   "metadata": {
    "scrolled": true
   },
   "outputs": [],
   "source": [
    "from numpy import *\n",
    "from PIL import ImageGrab,ImageOps\n",
    "import pyautogui as py\n",
    " \n",
    "    \n",
    "py.click(150,285)\n",
    "\n",
    "def pressSpace():\n",
    "    py.keyDown('space')\n",
    "    py.keyUp('space')\n",
    "\n",
    "def IMG():\n",
    "    Box=(176,286 ,232,311)    #Use your own Coordinates here\n",
    "    image=ImageGrab.grab(Box)\n",
    "    image=ImageOps.grayscale(image)\n",
    "    arr=array(image.getcolors())\n",
    "    return arr.sum()\n",
    " \n",
    "def main():\n",
    "    print(\"Starting Game.....\")\n",
    "    x=0\n",
    "    while(1):\n",
    "        if(IMG()!=1655):\n",
    "            pressSpace()\n",
    "            x=x+1\n",
    "            print(\"     Jumping \"+str(x)+\" times\")\n",
    "\n",
    "main()"
   ]
  },
  {
   "cell_type": "markdown",
   "metadata": {},
   "source": [
    "## ...END..."
   ]
  }
 ],
 "metadata": {
  "kernelspec": {
   "display_name": "Python 3",
   "language": "python",
   "name": "python3"
  },
  "language_info": {
   "codemirror_mode": {
    "name": "ipython",
    "version": 3
   },
   "file_extension": ".py",
   "mimetype": "text/x-python",
   "name": "python",
   "nbconvert_exporter": "python",
   "pygments_lexer": "ipython3",
   "version": "3.7.4"
  }
 },
 "nbformat": 4,
 "nbformat_minor": 2
}
